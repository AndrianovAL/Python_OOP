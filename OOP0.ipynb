{
 "cells": [
  {
   "cell_type": "code",
   "execution_count": 9,
   "id": "06705d81",
   "metadata": {},
   "outputs": [
    {
     "name": "stdout",
     "output_type": "stream",
     "text": [
      "1\n"
     ]
    }
   ],
   "source": [
    "class BasicClass:\n",
    "    theVariable = 1\n",
    "bc = BasicClass()\n",
    "print(bc.theVariable)"
   ]
  },
  {
   "cell_type": "code",
   "execution_count": 8,
   "id": "6235050a",
   "metadata": {},
   "outputs": [
    {
     "name": "stdout",
     "output_type": "stream",
     "text": [
      "24 ivan totonto\n"
     ]
    }
   ],
   "source": [
    "class ExampleClass:\n",
    "    age=24\n",
    "    name='ivan'\n",
    "    loc='totonto'\n",
    "ec = ExampleClass()\n",
    "print(ec.age, ec.name, ec.loc)"
   ]
  },
  {
   "cell_type": "code",
   "execution_count": 17,
   "id": "4fc32a2f",
   "metadata": {},
   "outputs": [
    {
     "name": "stdout",
     "output_type": "stream",
     "text": [
      "iven 20\n",
      "iven 21\n"
     ]
    }
   ],
   "source": [
    "class BirthdayBoy:\n",
    "    def __init__(self, name, age):\n",
    "        self.name = name\n",
    "        self.age = age\n",
    "    def birthday(self):\n",
    "        self.age += 1\n",
    "    def __str__(self):\n",
    "        return f'{self.name} {self.age}'\n",
    "\n",
    "\n",
    "bb = BirthdayBoy('iven', 20)\n",
    "print(bb)\n",
    "bb.birthday()\n",
    "print(bb)\n"
   ]
  },
  {
   "cell_type": "code",
   "execution_count": 34,
   "id": "df6410fe",
   "metadata": {},
   "outputs": [
    {
     "name": "stdout",
     "output_type": "stream",
     "text": [
      "My total sales are: 500\n"
     ]
    }
   ],
   "source": [
    "class Salesperson:\n",
    "    sales = 0\n",
    "    def __init__(self, firstName, lastName):\n",
    "        self.firstName = firstName\n",
    "        self.lastName = lastName\n",
    "    def makeSale(self, saleValue):\n",
    "        self.sales += saleValue\n",
    "    def salesReport(self):\n",
    "        print('My total sales are:', self.sales)\n",
    "ex = Salesperson('nick', 'McCullum')\n",
    "ex.makeSale(500)\n",
    "ex.salesReport()"
   ]
  },
  {
   "cell_type": "code",
   "execution_count": 35,
   "id": "f32b3743",
   "metadata": {},
   "outputs": [
    {
     "name": "stdout",
     "output_type": "stream",
     "text": [
      "My total sales are: 1200\n"
     ]
    }
   ],
   "source": [
    "ex2 = Salesperson('ann', 'buff')\n",
    "ex2.makeSale(600)\n",
    "ex2.makeSale(600)\n",
    "ex2.salesReport()"
   ]
  },
  {
   "cell_type": "code",
   "execution_count": 39,
   "id": "6bfa43bd",
   "metadata": {},
   "outputs": [
    {
     "data": {
      "text/plain": [
       "{'firstName': 'ann', 'lastName': 'buff', 'sales': 1200, 'qqq': 1}"
      ]
     },
     "execution_count": 39,
     "metadata": {},
     "output_type": "execute_result"
    }
   ],
   "source": [
    "ex2.qqq = 1\n",
    "ex2.__dict__"
   ]
  },
  {
   "cell_type": "code",
   "execution_count": null,
   "id": "77b98889",
   "metadata": {},
   "outputs": [],
   "source": []
  }
 ],
 "metadata": {
  "kernelspec": {
   "display_name": "menv",
   "language": "python",
   "name": "python3"
  },
  "language_info": {
   "codemirror_mode": {
    "name": "ipython",
    "version": 3
   },
   "file_extension": ".py",
   "mimetype": "text/x-python",
   "name": "python",
   "nbconvert_exporter": "python",
   "pygments_lexer": "ipython3",
   "version": "3.12.0"
  }
 },
 "nbformat": 4,
 "nbformat_minor": 5
}
